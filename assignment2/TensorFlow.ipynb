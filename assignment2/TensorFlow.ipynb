{
 "cells": [
  {
   "cell_type": "markdown",
   "metadata": {},
   "source": [
    "## What's this TensorFlow business?\n",
    "\n",
    "You've written a lot of code in this assignment to provide a whole host of neural network functionality. Dropout, Batch Norm, and 2D convolutions are some of the workhorses of deep learning in computer vision. You've also worked hard to make your code efficient and vectorized.\n",
    "\n",
    "For the last part of this assignment, though, we're going to leave behind your beautiful codebase and instead migrate to one of two popular deep learning frameworks: in this instance, TensorFlow (or PyTorch, if you switch over to that notebook)\n",
    "\n",
    "#### What is it?\n",
    "TensorFlow is a system for executing computational graphs over Tensor objects, with native support for performing backpropogation for its Variables. In it, we work with Tensors which are n-dimensional arrays analogous to the numpy ndarray.\n",
    "\n",
    "#### Why?\n",
    "\n",
    "* Our code will now run on GPUs! Much faster training. Writing your own modules to run on GPUs is beyond the scope of this class, unfortunately.\n",
    "* We want you to be ready to use one of these frameworks for your project so you can experiment more efficiently than if you were writing every feature you want to use by hand. \n",
    "* We want you to stand on the shoulders of giants! TensorFlow and PyTorch are both excellent frameworks that will make your lives a lot easier, and now that you understand their guts, you are free to use them :) \n",
    "* We want you to be exposed to the sort of deep learning code you might run into in academia or industry. "
   ]
  },
  {
   "cell_type": "markdown",
   "metadata": {},
   "source": [
    "## How will I learn TensorFlow?\n",
    "\n",
    "TensorFlow has many excellent tutorials available, including those from [Google themselves](https://www.tensorflow.org/get_started/get_started).\n",
    "\n",
    "Otherwise, this notebook will walk you through much of what you need to do to train models in TensorFlow. See the end of the notebook for some links to helpful tutorials if you want to learn more or need further clarification on topics that aren't fully explained here."
   ]
  },
  {
   "cell_type": "markdown",
   "metadata": {},
   "source": [
    "## Load Datasets\n"
   ]
  },
  {
   "cell_type": "code",
   "execution_count": 1,
   "metadata": {
    "collapsed": true
   },
   "outputs": [],
   "source": [
    "import tensorflow as tf\n",
    "import numpy as np\n",
    "import math\n",
    "import timeit\n",
    "import matplotlib.pyplot as plt\n",
    "%matplotlib inline"
   ]
  },
  {
   "cell_type": "code",
   "execution_count": 5,
   "metadata": {},
   "outputs": [
    {
     "name": "stdout",
     "output_type": "stream",
     "text": [
      "Train data shape:  (49000, 32, 32, 3)\n",
      "Train labels shape:  (49000,)\n",
      "Validation data shape:  (1000, 32, 32, 3)\n",
      "Validation labels shape:  (1000,)\n",
      "Test data shape:  (10000, 32, 32, 3)\n",
      "Test labels shape:  (10000,)\n"
     ]
    }
   ],
   "source": [
    "from cs231n.data_utils import load_CIFAR10\n",
    "\n",
    "def get_CIFAR10_data(num_training=49000, num_validation=1000, num_test=10000):\n",
    "    \"\"\"\n",
    "    Load the CIFAR-10 dataset from disk and perform preprocessing to prepare\n",
    "    it for the two-layer neural net classifier. These are the same steps as\n",
    "    we used for the SVM, but condensed to a single function.  \n",
    "    \"\"\"\n",
    "    # Load the raw CIFAR-10 data\n",
    "    cifar10_dir = 'cs231n/datasets/cifar-10-batches-py'\n",
    "    X_train, y_train, X_test, y_test = load_CIFAR10(cifar10_dir)\n",
    "\n",
    "    # Subsample the data\n",
    "    mask = range(num_training, num_training + num_validation)\n",
    "    X_val = X_train[mask]\n",
    "    y_val = y_train[mask]\n",
    "    mask = range(num_training)\n",
    "    X_train = X_train[mask]\n",
    "    y_train = y_train[mask]\n",
    "    mask = range(num_test)\n",
    "    X_test = X_test[mask]\n",
    "    y_test = y_test[mask]\n",
    "\n",
    "    # Normalize the data: subtract the mean image\n",
    "    mean_image = np.mean(X_train, axis=0)\n",
    "    X_train -= mean_image\n",
    "    X_val -= mean_image\n",
    "    X_test -= mean_image\n",
    "\n",
    "    return X_train, y_train, X_val, y_val, X_test, y_test\n",
    "\n",
    "\n",
    "# Invoke the above function to get our data.\n",
    "X_train, y_train, X_val, y_val, X_test, y_test = get_CIFAR10_data()\n",
    "print('Train data shape: ', X_train.shape)\n",
    "print('Train labels shape: ', y_train.shape)\n",
    "print('Validation data shape: ', X_val.shape)\n",
    "print('Validation labels shape: ', y_val.shape)\n",
    "print('Test data shape: ', X_test.shape)\n",
    "print('Test labels shape: ', y_test.shape)"
   ]
  },
  {
   "cell_type": "markdown",
   "metadata": {},
   "source": [
    "## Example Model\n",
    "\n",
    "### Some useful utilities\n",
    "\n",
    ". Remember that our image data is initially N x H x W x C, where:\n",
    "* N is the number of datapoints\n",
    "* H is the height of each image in pixels\n",
    "* W is the height of each image in pixels\n",
    "* C is the number of channels (usually 3: R, G, B)\n",
    "\n",
    "This is the right way to represent the data when we are doing something like a 2D convolution, which needs spatial understanding of where the pixels are relative to each other. When we input image data into fully connected affine layers, however, we want each data example to be represented by a single vector -- it's no longer useful to segregate the different channels, rows, and columns of the data."
   ]
  },
  {
   "cell_type": "markdown",
   "metadata": {},
   "source": [
    "### The example model itself\n",
    "\n",
    "The first step to training your own model is defining its architecture.\n",
    "\n",
    "Here's an example of a convolutional neural network defined in TensorFlow -- try to understand what each line is doing, remembering that each layer is composed upon the previous layer. We haven't trained anything yet - that'll come next - for now, we want you to understand how everything gets set up. \n",
    "\n",
    "In that example, you see 2D convolutional layers (Conv2d), ReLU activations, and fully-connected layers (Linear). You also see the Hinge loss function, and the Adam optimizer being used. \n",
    "\n",
    "Make sure you understand why the parameters of the Linear layer are 5408 and 10.\n",
    "\n",
    "### TensorFlow Details\n",
    "In TensorFlow, much like in our previous notebooks, we'll first specifically initialize our variables, and then our network model."
   ]
  },
  {
   "cell_type": "code",
   "execution_count": 6,
   "metadata": {
    "collapsed": true
   },
   "outputs": [],
   "source": [
    "# clear old variables\n",
    "tf.reset_default_graph()\n",
    "\n",
    "# setup input (e.g. the data that changes every batch)\n",
    "# The first dim is None, and gets sets automatically based on batch size fed in\n",
    "X = tf.placeholder(tf.float32, [None, 32, 32, 3])\n",
    "y = tf.placeholder(tf.int64, [None])\n",
    "is_training = tf.placeholder(tf.bool)\n",
    "\n",
    "def simple_model(X,y):\n",
    "    # define our weights (e.g. init_two_layer_convnet)\n",
    "    \n",
    "    # setup variables\n",
    "    Wconv1 = tf.get_variable(\"Wconv1\", shape=[7, 7, 3, 32])\n",
    "    bconv1 = tf.get_variable(\"bconv1\", shape=[32])\n",
    "    W1 = tf.get_variable(\"W1\", shape=[5408, 10])\n",
    "    b1 = tf.get_variable(\"b1\", shape=[10])\n",
    "\n",
    "    # define our graph (e.g. two_layer_convnet)\n",
    "    a1 = tf.nn.conv2d(X, Wconv1, strides=[1,2,2,1], padding='VALID') + bconv1\n",
    "    h1 = tf.nn.relu(a1)\n",
    "    h1_flat = tf.reshape(h1,[-1,5408])\n",
    "    y_out = tf.matmul(h1_flat,W1) + b1\n",
    "    return y_out\n",
    "\n",
    "y_out = simple_model(X,y)\n",
    "\n",
    "# define our loss\n",
    "total_loss = tf.losses.hinge_loss(tf.one_hot(y,10),logits=y_out)\n",
    "mean_loss = tf.reduce_mean(total_loss)\n",
    "\n",
    "# define our optimizer\n",
    "optimizer = tf.train.AdamOptimizer(5e-4) # select optimizer and set learning rate\n",
    "train_step = optimizer.minimize(mean_loss)"
   ]
  },
  {
   "cell_type": "markdown",
   "metadata": {},
   "source": [
    "TensorFlow supports many other layer types, loss functions, and optimizers - you will experiment with these next. Here's the official API documentation for these (if any of the parameters used above were unclear, this resource will also be helpful). \n",
    "\n",
    "* Layers, Activations, Loss functions : https://www.tensorflow.org/api_guides/python/nn\n",
    "* Optimizers: https://www.tensorflow.org/api_guides/python/train#Optimizers\n",
    "* BatchNorm: https://www.tensorflow.org/api_docs/python/tf/layers/batch_normalization"
   ]
  },
  {
   "cell_type": "markdown",
   "metadata": {},
   "source": [
    "### Training the model on one epoch\n",
    "While we have defined a graph of operations above, in order to execute TensorFlow Graphs, by feeding them input data and computing the results, we first need to create a `tf.Session` object. A session encapsulates the control and state of the TensorFlow runtime. For more information, see the TensorFlow [Getting started](https://www.tensorflow.org/get_started/get_started) guide.\n",
    "\n",
    "Optionally we can also specify a device context such as `/cpu:0` or `/gpu:0`. For documentation on this behavior see [this TensorFlow guide](https://www.tensorflow.org/tutorials/using_gpu)\n",
    "\n",
    "You should see a validation loss of around 0.4 to 0.6 and an accuracy of 0.30 to 0.35 below"
   ]
  },
  {
   "cell_type": "code",
   "execution_count": 97,
   "metadata": {},
   "outputs": [
    {
     "name": "stdout",
     "output_type": "stream",
     "text": [
      "Training\n",
      "Iteration 0: with minibatch training loss = 4.58 and accuracy of 0.094\n",
      "Iteration 100: with minibatch training loss = 1.66 and accuracy of 0.39\n",
      "Iteration 200: with minibatch training loss = 1.33 and accuracy of 0.42\n",
      "Iteration 300: with minibatch training loss = 1.21 and accuracy of 0.59\n",
      "Iteration 400: with minibatch training loss = 1.41 and accuracy of 0.53\n",
      "Iteration 500: with minibatch training loss = 1.18 and accuracy of 0.58\n",
      "Iteration 600: with minibatch training loss = 1.12 and accuracy of 0.55\n",
      "Iteration 700: with minibatch training loss = 0.956 and accuracy of 0.69\n",
      "Epoch 1, Overall loss = 1.87 and accuracy of 0.488\n"
     ]
    },
    {
     "data": {
      "image/png": "[encoded data removed]",
      "text/plain": [
       "<matplotlib.figure.Figure at 0x7f4793c66ef0>"
      ]
     },
     "metadata": {},
     "output_type": "display_data"
    },
    {
     "name": "stdout",
     "output_type": "stream",
     "text": [
      "Validation\n",
      "Epoch 1, Overall loss = 1.15 and accuracy of 0.586\n"
     ]
    }
   ],
   "source": [
    "def run_model(session, predict, loss_val, Xd, yd,\n",
    "              epochs=10, batch_size=64, print_every=100,\n",
    "              training=None, plot_losses=False):\n",
    "    # have tensorflow compute accuracy\n",
    "    correct_prediction = tf.equal(tf.argmax(predict,1), y)\n",
    "    accuracy = tf.reduce_mean(tf.cast(correct_prediction, tf.float32))\n",
    "    \n",
    "    # shuffle indicies\n",
    "    train_indicies = np.arange(Xd.shape[0])\n",
    "    np.random.shuffle(train_indicies)\n",
    "\n",
    "    training_now = training is not None\n",
    "    \n",
    "    # setting up variables we want to compute (and optimizing)\n",
    "    # if we have a training function, add that to things we compute\n",
    "    variables = [mean_loss,correct_prediction,accuracy]\n",
    "    if training_now:\n",
    "        variables[-1] = training\n",
    "    \n",
    "    # counter \n",
    "    iter_cnt = 0\n",
    "    for e in range(epochs):\n",
    "        # keep track of losses and accuracy\n",
    "        correct = 0\n",
    "        losses = []\n",
    "        # make sure we iterate over the dataset once\n",
    "        for i in range(int(math.ceil(Xd.shape[0]/batch_size))):\n",
    "            # generate indicies for the batch\n",
    "            start_idx = (i*batch_size)%Xd.shape[0]\n",
    "            idx = train_indicies[start_idx:start_idx+batch_size]\n",
    "            \n",
    "            # create a feed dictionary for this batch\n",
    "            feed_dict = {X: Xd[idx,:],\n",
    "                         y: yd[idx],\n",
    "                         is_training: training_now }\n",
    "            # get batch size\n",
    "            actual_batch_size = yd[idx].shape[0]\n",
    "            \n",
    "            # have tensorflow compute loss and correct predictions\n",
    "            # and (if given) perform a training step\n",
    "            loss, corr, _ = session.run(variables,feed_dict=feed_dict)\n",
    "            \n",
    "            # aggregate performance stats\n",
    "            losses.append(loss*actual_batch_size)\n",
    "            correct += np.sum(corr)\n",
    "            \n",
    "            # print every now and then\n",
    "            if training_now and (iter_cnt % print_every) == 0:\n",
    "                print(\"Iteration {0}: with minibatch training loss = {1:.3g} and accuracy of {2:.2g}\"\\\n",
    "                      .format(iter_cnt,loss,np.sum(corr)/actual_batch_size))\n",
    "            iter_cnt += 1\n",
    "        total_correct = correct/Xd.shape[0]\n",
    "        total_loss = np.sum(losses)/Xd.shape[0]\n",
    "        print(\"Epoch {2}, Overall loss = {0:.3g} and accuracy of {1:.3g}\"\\\n",
    "              .format(total_loss,total_correct,e+1))\n",
    "        if plot_losses:\n",
    "            plt.plot(losses)\n",
    "            plt.grid(True)\n",
    "            plt.title('Epoch {} Loss'.format(e+1))\n",
    "            plt.xlabel('minibatch number')\n",
    "            plt.ylabel('minibatch loss')\n",
    "            plt.show()\n",
    "    return total_loss,total_correct\n",
    "\n",
    "with tf.Session() as sess:\n",
    "    with tf.device(\"/cpu:0\"): #\"/cpu:0\" or \"/gpu:0\" \n",
    "        sess.run(tf.global_variables_initializer())\n",
    "        print('Training')\n",
    "        run_model(sess,y_out,mean_loss,X_train,y_train,1,64,100,train_step,True)\n",
    "        print('Validation')\n",
    "        run_model(sess,y_out,mean_loss,X_val,y_val,1,64)"
   ]
  },
  {
   "cell_type": "markdown",
   "metadata": {},
   "source": [
    "## Training a specific model\n",
    "\n",
    "In this section, we're going to specify a model for you to construct. The goal here isn't to get good performance (that'll be next), but instead to get comfortable with understanding the TensorFlow documentation and configuring your own model. \n",
    "\n",
    "Using the code provided above as guidance, and using the following TensorFlow documentation, specify a model with the following architecture:\n",
    "\n",
    "* 7x7 Convolutional Layer with 32 filters and stride of 1\n",
    "* ReLU Activation Layer\n",
    "* Spatial Batch Normalization Layer (trainable parameters, with scale and centering)\n",
    "* 2x2 Max Pooling layer with a stride of 2\n",
    "* Affine layer with 1024 output units\n",
    "* ReLU Activation Layer\n",
    "* Affine layer from 1024 input units to 10 outputs\n",
    "\n"
   ]
  },
  {
   "cell_type": "code",
   "execution_count": 192,
   "metadata": {},
   "outputs": [],
   "source": [
    "# clear old variables\n",
    "tf.reset_default_graph()\n",
    "\n",
    "# define our input (e.g. the data that changes every batch)\n",
    "# The first dim is None, and gets sets automatically based on batch size fed in\n",
    "X = tf.placeholder(tf.float32, [None, 32, 32, 3])\n",
    "y = tf.placeholder(tf.int64, [None])\n",
    "is_training = tf.placeholder(tf.bool)\n",
    "\n",
    "# define model\n",
    "def complex_model(X,y,is_training):\n",
    "\n",
    "    \n",
    "    \n",
    "    a4 = tf.layers.conv2d(X, filters = 64, kernel_size = [3,3], strides = (1,1), \n",
    "                          padding ='same', activation = tf.nn.relu )\n",
    "    a5 = tf.layers.conv2d(a4, filters = 64, kernel_size = [3,3], strides = (1,1), \n",
    "                          padding ='same', activation = tf.nn.relu )\n",
    "    a6 = tf.layers.conv2d(a5, filters = 64, kernel_size = [3,3], strides = (1,1), \n",
    "                          padding ='same', activation = tf.nn.relu )\n",
    "    \n",
    "    a7 = tf.layers.batch_normalization(a6)\n",
    "    a7 = tf.layers.dropout(a7, rate = 0.7)\n",
    "    a8 = tf.layers.max_pooling2d(a7, pool_size=[2,2], strides = 1)\n",
    "    \n",
    "    a9 = tf.layers.conv2d(a8, filters = 128, kernel_size = [3,3], strides = (1,1), \n",
    "                          padding ='same', activation = tf.nn.relu )\n",
    "    a10 = tf.layers.conv2d(a9, filters = 128, kernel_size = [3,3], strides = (1,1), \n",
    "                          padding ='same', activation = tf.nn.relu )\n",
    "    a11 = tf.layers.conv2d(a10, filters = 128, kernel_size = [3,3], strides = (1,1), \n",
    "                          padding ='same', activation = tf.nn.relu )\n",
    "    a12 = tf.layers.batch_normalization(a11)\n",
    "    a13 = tf.layers.max_pooling2d(a12, pool_size=[2,2], strides = 1)\n",
    "    a13= tf.layers.dropout(a13, rate = 0.7)\n",
    "    a14 = tf.layers.conv2d(a13, filters = 256, kernel_size = [3,3], strides = (1,1), \n",
    "                          padding ='same', activation = tf.nn.relu )\n",
    "    a15 = tf.layers.conv2d(a14, filters = 256, kernel_size = [3,3], strides = (1,1), \n",
    "                          padding ='same', activation = tf.nn.relu )\n",
    "    a16 = tf.layers.conv2d(a15, filters = 256, kernel_size = [3,3], strides = (1,1), \n",
    "                          padding ='same', activation = tf.nn.relu )\n",
    "    a17 = tf.layers.batch_normalization(a16)\n",
    "    a18 = tf.layers.max_pooling2d(a17, pool_size=[2,2], strides = 2)\n",
    "    \n",
    "    a19 = tf.contrib.layers.flatten(a18)\n",
    "    a20 = tf.layers.dense(a19, units = 1024, activation = tf.nn.relu )\n",
    "    a21 = tf.layers.batch_normalization(a20)\n",
    "    a22 = tf.layers.dropout(a21, rate = 0.7)\n",
    "    a23 = tf.layers.dense(a22, units = 1024, activation = tf.nn.relu )\n",
    "    a24 = tf.layers.batch_normalization(a23)\n",
    "    a25 = tf.layers.dropout(a24 ,rate = 0.7)\n",
    "    a26 = tf.layers.dense(a25, units = 10)\n",
    "    \n",
    "    return a26\n",
    "y_out = complex_model(X,y,is_training)"
   ]
  },
  {
   "cell_type": "markdown",
   "metadata": {},
   "source": [
    "To make sure you're doing the right thing, use the following tool to check the dimensionality of your output (it should be 64 x 10, since our batches have size 64 and the output of the final affine layer should be 10, corresponding to our 10 classes):"
   ]
  },
  {
   "cell_type": "code",
   "execution_count": 193,
   "metadata": {},
   "outputs": [
    {
     "name": "stdout",
     "output_type": "stream",
     "text": [
      "10 loops, best of 3: 65.4 ms per loop\n",
      "(64, 10)\n",
      "True\n"
     ]
    }
   ],
   "source": [
    "# Now we're going to feed a random batch into the model \n",
    "# and make sure the output is the right size\n",
    "x = np.random.randn(64, 32, 32,3)\n",
    "with tf.Session() as sess:\n",
    "    with tf.device(\"/gpu:0\"): #\"/cpu:0\" or \"/gpu:0\"\n",
    "        tf.global_variables_initializer().run()\n",
    "\n",
    "        ans = sess.run(y_out,feed_dict={X:x,is_training:True})\n",
    "        %timeit sess.run(y_out,feed_dict={X:x,is_training:True})\n",
    "        print(ans.shape)\n",
    "        print(np.array_equal(ans.shape, np.array([64, 10])))"
   ]
  },
  {
   "cell_type": "markdown",
   "metadata": {},
   "source": [
    "You should see the following from the run above \n",
    "\n",
    "`(64, 10)`\n",
    "\n",
    "`True`"
   ]
  },
  {
   "cell_type": "markdown",
   "metadata": {},
   "source": [
    "### GPU!\n",
    "\n",
    "Now, we're going to try and start the model under the GPU device, the rest of the code stays unchanged and all our variables and operations will be computed using accelerated code paths. However, if there is no GPU, we get a Python exception and have to rebuild our graph. On a dual-core CPU, you might see around 50-80ms/batch running the above, while the Google Cloud GPUs (run below) should be around 2-5ms/batch."
   ]
  },
  {
   "cell_type": "code",
   "execution_count": 54,
   "metadata": {},
   "outputs": [
    {
     "name": "stdout",
     "output_type": "stream",
     "text": [
      "100 loops, best of 3: 2.39 ms per loop\n"
     ]
    }
   ],
   "source": [
    "try:\n",
    "    with tf.Session() as sess:\n",
    "        with tf.device(\"/gpu:0\") as dev: #\"/cpu:0\" or \"/gpu:0\"\n",
    "            tf.global_variables_initializer().run()\n",
    "\n",
    "            ans = sess.run(y_out,feed_dict={X:x,is_training:True})\n",
    "            %timeit sess.run(y_out,feed_dict={X:x,is_training:True})\n",
    "except tf.errors.InvalidArgumentError:\n",
    "    print(\"no gpu found, please use Google Cloud if you want GPU acceleration\")    \n",
    "    # rebuild the graph\n",
    "    # trying to start a GPU throws an exception \n",
    "    # and also trashes the original graph\n",
    "    tf.reset_default_graph()\n",
    "    X = tf.placeholder(tf.float32, [None, 32, 32, 3])\n",
    "    y = tf.placeholder(tf.int64, [None])\n",
    "    is_training = tf.placeholder(tf.bool)\n",
    "    y_out = complex_model(X,y,is_training)"
   ]
  },
  {
   "cell_type": "markdown",
   "metadata": {},
   "source": [
    "You should observe that even a simple forward pass like this is significantly faster on the GPU. So for the rest of the assignment (and when you go train your models in assignment 3 and your project!), you should use GPU devices. However, with TensorFlow, the default device is a GPU if one is available, and a CPU otherwise, so we can skip the device specification from now on."
   ]
  },
  {
   "cell_type": "markdown",
   "metadata": {},
   "source": [
    "### Train the model.\n",
    "\n",
    "Now that you've seen how to define a model and do a single forward pass of some data through it, let's  walk through how you'd actually train one whole epoch over your training data (using the complex_model you created provided above).\n",
    "\n",
    "Make sure you understand how each TensorFlow function used below corresponds to what you implemented in your custom neural network implementation.\n",
    "\n",
    "First, set up an **RMSprop optimizer** (using a 1e-3 learning rate) and a **cross-entropy loss** function. See the TensorFlow documentation for more information\n",
    "* Layers, Activations, Loss functions : https://www.tensorflow.org/api_guides/python/nn\n",
    "* Optimizers: https://www.tensorflow.org/api_guides/python/train#Optimizers"
   ]
  },
  {
   "cell_type": "code",
   "execution_count": 198,
   "metadata": {},
   "outputs": [],
   "source": [
    "# Inputs\n",
    "#     y_out: is what your model computes\n",
    "#     y: is your TensorFlow variable with label information\n",
    "# Outputs\n",
    "#    mean_loss: a TensorFlow variable (scalar) with numerical loss\n",
    "#    optimizer: a TensorFlow optimizer\n",
    "# This should be ~3 lines of code!\n",
    "loss = tf.losses.softmax_cross_entropy(tf.one_hot(y, 10), logits = y_out)\n",
    "mean_loss = tf.reduce_mean(loss)\n",
    "\n",
    "optimizer = tf.train.AdamOptimizer(learning_rate = 1e-3)\n",
    "\n"
   ]
  },
  {
   "cell_type": "code",
   "execution_count": 199,
   "metadata": {
    "collapsed": true
   },
   "outputs": [],
   "source": [
    "# batch normalization in tensorflow requires this extra dependency\n",
    "extra_update_ops = tf.get_collection(tf.GraphKeys.UPDATE_OPS)\n",
    "with tf.control_dependencies(extra_update_ops):\n",
    "    train_step = optimizer.minimize(mean_loss)"
   ]
  },
  {
   "cell_type": "markdown",
   "metadata": {},
   "source": [
    "### Train the model\n",
    "Below we'll create a session and train the model over one epoch. You should see a loss of 1.4 to 2.0 and an accuracy of 0.4 to 0.5. There will be some variation due to random seeds and differences in initialization"
   ]
  },
  {
   "cell_type": "code",
   "execution_count": 200,
   "metadata": {
    "scrolled": true
   },
   "outputs": [
    {
     "name": "stdout",
     "output_type": "stream",
     "text": [
      "Training\n",
      "Iteration 0: with minibatch training loss = 2.57 and accuracy of 0.14\n",
      "Iteration 10: with minibatch training loss = 2.41 and accuracy of 0.094\n",
      "Iteration 20: with minibatch training loss = 2.16 and accuracy of 0.19\n",
      "Iteration 30: with minibatch training loss = 2.11 and accuracy of 0.22\n",
      "Iteration 40: with minibatch training loss = 2.08 and accuracy of 0.2\n",
      "Iteration 50: with minibatch training loss = 2.04 and accuracy of 0.25\n",
      "Iteration 60: with minibatch training loss = 2.08 and accuracy of 0.16\n",
      "Iteration 70: with minibatch training loss = 2.14 and accuracy of 0.25\n",
      "Iteration 80: with minibatch training loss = 1.86 and accuracy of 0.41\n",
      "Iteration 90: with minibatch training loss = 1.88 and accuracy of 0.31\n",
      "Iteration 100: with minibatch training loss = 1.78 and accuracy of 0.33\n",
      "Iteration 110: with minibatch training loss = 1.88 and accuracy of 0.31\n",
      "Iteration 120: with minibatch training loss = 2 and accuracy of 0.31\n",
      "Iteration 130: with minibatch training loss = 1.73 and accuracy of 0.34\n",
      "Iteration 140: with minibatch training loss = 1.62 and accuracy of 0.47\n",
      "Iteration 150: with minibatch training loss = 1.75 and accuracy of 0.3\n",
      "Iteration 160: with minibatch training loss = 1.65 and accuracy of 0.39\n",
      "Iteration 170: with minibatch training loss = 1.81 and accuracy of 0.34\n",
      "Iteration 180: with minibatch training loss = 1.58 and accuracy of 0.36\n",
      "Iteration 190: with minibatch training loss = 2 and accuracy of 0.34\n",
      "Iteration 200: with minibatch training loss = 1.68 and accuracy of 0.36\n",
      "Iteration 210: with minibatch training loss = 1.6 and accuracy of 0.36\n",
      "Iteration 220: with minibatch training loss = 1.3 and accuracy of 0.47\n",
      "Iteration 230: with minibatch training loss = 1.43 and accuracy of 0.47\n",
      "Iteration 240: with minibatch training loss = 1.58 and accuracy of 0.39\n",
      "Iteration 250: with minibatch training loss = 1.43 and accuracy of 0.45\n",
      "Iteration 260: with minibatch training loss = 1.63 and accuracy of 0.44\n",
      "Iteration 270: with minibatch training loss = 1.57 and accuracy of 0.38\n",
      "Iteration 280: with minibatch training loss = 1.61 and accuracy of 0.41\n",
      "Iteration 290: with minibatch training loss = 1.65 and accuracy of 0.39\n",
      "Iteration 300: with minibatch training loss = 1.42 and accuracy of 0.42\n",
      "Iteration 310: with minibatch training loss = 1.77 and accuracy of 0.33\n",
      "Iteration 320: with minibatch training loss = 1.52 and accuracy of 0.39\n",
      "Iteration 330: with minibatch training loss = 1.38 and accuracy of 0.44\n",
      "Iteration 340: with minibatch training loss = 1.76 and accuracy of 0.44\n",
      "Iteration 350: with minibatch training loss = 1.32 and accuracy of 0.55\n",
      "Iteration 360: with minibatch training loss = 1.62 and accuracy of 0.41\n",
      "Iteration 370: with minibatch training loss = 1.8 and accuracy of 0.34\n",
      "Iteration 380: with minibatch training loss = 1.4 and accuracy of 0.44\n",
      "Iteration 390: with minibatch training loss = 1.47 and accuracy of 0.42\n",
      "Iteration 400: with minibatch training loss = 1.49 and accuracy of 0.52\n",
      "Iteration 410: with minibatch training loss = 1.55 and accuracy of 0.44\n",
      "Iteration 420: with minibatch training loss = 1.8 and accuracy of 0.39\n",
      "Iteration 430: with minibatch training loss = 1.44 and accuracy of 0.45\n",
      "Iteration 440: with minibatch training loss = 1.56 and accuracy of 0.41\n",
      "Iteration 450: with minibatch training loss = 1.47 and accuracy of 0.38\n",
      "Iteration 460: with minibatch training loss = 1.55 and accuracy of 0.45\n",
      "Iteration 470: with minibatch training loss = 1.68 and accuracy of 0.34\n",
      "Iteration 480: with minibatch training loss = 1.32 and accuracy of 0.55\n",
      "Iteration 490: with minibatch training loss = 1.25 and accuracy of 0.55\n",
      "Iteration 500: with minibatch training loss = 1.74 and accuracy of 0.36\n",
      "Iteration 510: with minibatch training loss = 1.48 and accuracy of 0.5\n",
      "Iteration 520: with minibatch training loss = 1.42 and accuracy of 0.42\n",
      "Iteration 530: with minibatch training loss = 1.52 and accuracy of 0.39\n",
      "Iteration 540: with minibatch training loss = 1.51 and accuracy of 0.45\n",
      "Iteration 550: with minibatch training loss = 1.26 and accuracy of 0.58\n",
      "Iteration 560: with minibatch training loss = 1.09 and accuracy of 0.66\n",
      "Iteration 570: with minibatch training loss = 1.26 and accuracy of 0.55\n",
      "Iteration 580: with minibatch training loss = 1.27 and accuracy of 0.45\n",
      "Iteration 590: with minibatch training loss = 1.62 and accuracy of 0.39\n",
      "Iteration 600: with minibatch training loss = 1.02 and accuracy of 0.67\n",
      "Iteration 610: with minibatch training loss = 1.33 and accuracy of 0.45\n",
      "Iteration 620: with minibatch training loss = 1.21 and accuracy of 0.59\n",
      "Iteration 630: with minibatch training loss = 1.1 and accuracy of 0.62\n",
      "Iteration 640: with minibatch training loss = 1.35 and accuracy of 0.53\n",
      "Iteration 650: with minibatch training loss = 1.37 and accuracy of 0.56\n",
      "Iteration 660: with minibatch training loss = 1.06 and accuracy of 0.56\n",
      "Iteration 670: with minibatch training loss = 1.35 and accuracy of 0.48\n",
      "Iteration 680: with minibatch training loss = 1.41 and accuracy of 0.48\n",
      "Iteration 690: with minibatch training loss = 1.28 and accuracy of 0.56\n",
      "Iteration 700: with minibatch training loss = 1.01 and accuracy of 0.62\n",
      "Iteration 710: with minibatch training loss = 1.03 and accuracy of 0.59\n",
      "Iteration 720: with minibatch training loss = 1.34 and accuracy of 0.48\n",
      "Iteration 730: with minibatch training loss = 1.29 and accuracy of 0.5\n",
      "Iteration 740: with minibatch training loss = 1.35 and accuracy of 0.52\n",
      "Iteration 750: with minibatch training loss = 1.31 and accuracy of 0.52\n",
      "Iteration 760: with minibatch training loss = 1.4 and accuracy of 0.39\n",
      "Epoch 1, Overall loss = 1.7 and accuracy of 0.43\n",
      "Iteration 770: with minibatch training loss = 1.03 and accuracy of 0.59\n",
      "Iteration 780: with minibatch training loss = 1.01 and accuracy of 0.62\n",
      "Iteration 790: with minibatch training loss = 1.22 and accuracy of 0.53\n",
      "Iteration 800: with minibatch training loss = 1.1 and accuracy of 0.61\n",
      "Iteration 810: with minibatch training loss = 1.23 and accuracy of 0.59\n",
      "Iteration 820: with minibatch training loss = 1.28 and accuracy of 0.53\n",
      "Iteration 830: with minibatch training loss = 1.12 and accuracy of 0.62\n",
      "Iteration 840: with minibatch training loss = 1.16 and accuracy of 0.56\n",
      "Iteration 850: with minibatch training loss = 1.44 and accuracy of 0.5\n",
      "Iteration 860: with minibatch training loss = 1.21 and accuracy of 0.47\n",
      "Iteration 870: with minibatch training loss = 1.18 and accuracy of 0.61\n",
      "Iteration 880: with minibatch training loss = 1.23 and accuracy of 0.56\n",
      "Iteration 890: with minibatch training loss = 0.897 and accuracy of 0.7\n",
      "Iteration 900: with minibatch training loss = 1.23 and accuracy of 0.58\n",
      "Iteration 910: with minibatch training loss = 1.02 and accuracy of 0.67\n",
      "Iteration 920: with minibatch training loss = 1.18 and accuracy of 0.62\n",
      "Iteration 930: with minibatch training loss = 0.892 and accuracy of 0.62\n",
      "Iteration 940: with minibatch training loss = 0.922 and accuracy of 0.67\n",
      "Iteration 950: with minibatch training loss = 1.24 and accuracy of 0.59\n",
      "Iteration 960: with minibatch training loss = 0.992 and accuracy of 0.64\n",
      "Iteration 970: with minibatch training loss = 0.892 and accuracy of 0.64\n",
      "Iteration 980: with minibatch training loss = 1.2 and accuracy of 0.59\n",
      "Iteration 990: with minibatch training loss = 0.838 and accuracy of 0.69\n",
      "Iteration 1000: with minibatch training loss = 0.934 and accuracy of 0.77\n",
      "Iteration 1010: with minibatch training loss = 1.23 and accuracy of 0.59\n",
      "Iteration 1020: with minibatch training loss = 1.11 and accuracy of 0.62\n",
      "Iteration 1030: with minibatch training loss = 0.825 and accuracy of 0.69\n",
      "Iteration 1040: with minibatch training loss = 1.16 and accuracy of 0.58\n",
      "Iteration 1050: with minibatch training loss = 1.03 and accuracy of 0.66\n",
      "Iteration 1060: with minibatch training loss = 0.86 and accuracy of 0.66\n",
      "Iteration 1070: with minibatch training loss = 1.3 and accuracy of 0.53\n",
      "Iteration 1080: with minibatch training loss = 1.14 and accuracy of 0.56\n",
      "Iteration 1090: with minibatch training loss = 1.05 and accuracy of 0.61\n",
      "Iteration 1100: with minibatch training loss = 1.1 and accuracy of 0.61\n",
      "Iteration 1110: with minibatch training loss = 1.05 and accuracy of 0.59\n",
      "Iteration 1120: with minibatch training loss = 1.08 and accuracy of 0.61\n",
      "Iteration 1130: with minibatch training loss = 1.35 and accuracy of 0.48\n"
     ]
    },
    {
     "name": "stdout",
     "output_type": "stream",
     "text": [
      "Iteration 1140: with minibatch training loss = 1.15 and accuracy of 0.58\n",
      "Iteration 1150: with minibatch training loss = 1.11 and accuracy of 0.53\n",
      "Iteration 1160: with minibatch training loss = 0.913 and accuracy of 0.69\n",
      "Iteration 1170: with minibatch training loss = 0.982 and accuracy of 0.62\n",
      "Iteration 1180: with minibatch training loss = 0.923 and accuracy of 0.61\n",
      "Iteration 1190: with minibatch training loss = 0.922 and accuracy of 0.66\n",
      "Iteration 1200: with minibatch training loss = 0.86 and accuracy of 0.62\n",
      "Iteration 1210: with minibatch training loss = 1.06 and accuracy of 0.64\n",
      "Iteration 1220: with minibatch training loss = 1.12 and accuracy of 0.62\n",
      "Iteration 1230: with minibatch training loss = 1.06 and accuracy of 0.62\n",
      "Iteration 1240: with minibatch training loss = 1.16 and accuracy of 0.55\n",
      "Iteration 1250: with minibatch training loss = 0.93 and accuracy of 0.69\n",
      "Iteration 1260: with minibatch training loss = 1.18 and accuracy of 0.62\n",
      "Iteration 1270: with minibatch training loss = 1.06 and accuracy of 0.67\n",
      "Iteration 1280: with minibatch training loss = 1.13 and accuracy of 0.62\n",
      "Iteration 1290: with minibatch training loss = 1.07 and accuracy of 0.58\n",
      "Iteration 1300: with minibatch training loss = 0.886 and accuracy of 0.64\n",
      "Iteration 1310: with minibatch training loss = 0.923 and accuracy of 0.66\n",
      "Iteration 1320: with minibatch training loss = 0.794 and accuracy of 0.72\n",
      "Iteration 1330: with minibatch training loss = 0.71 and accuracy of 0.7\n",
      "Iteration 1340: with minibatch training loss = 1.29 and accuracy of 0.58\n",
      "Iteration 1350: with minibatch training loss = 0.925 and accuracy of 0.75\n",
      "Iteration 1360: with minibatch training loss = 0.741 and accuracy of 0.72\n",
      "Iteration 1370: with minibatch training loss = 1.07 and accuracy of 0.61\n",
      "Iteration 1380: with minibatch training loss = 1 and accuracy of 0.64\n",
      "Iteration 1390: with minibatch training loss = 0.998 and accuracy of 0.69\n",
      "Iteration 1400: with minibatch training loss = 0.662 and accuracy of 0.81\n",
      "Iteration 1410: with minibatch training loss = 0.999 and accuracy of 0.59\n",
      "Iteration 1420: with minibatch training loss = 0.951 and accuracy of 0.69\n",
      "Iteration 1430: with minibatch training loss = 0.99 and accuracy of 0.7\n",
      "Iteration 1440: with minibatch training loss = 0.64 and accuracy of 0.78\n",
      "Iteration 1450: with minibatch training loss = 1.02 and accuracy of 0.67\n",
      "Iteration 1460: with minibatch training loss = 0.832 and accuracy of 0.64\n",
      "Iteration 1470: with minibatch training loss = 0.721 and accuracy of 0.73\n",
      "Iteration 1480: with minibatch training loss = 1.1 and accuracy of 0.55\n",
      "Iteration 1490: with minibatch training loss = 0.785 and accuracy of 0.69\n",
      "Iteration 1500: with minibatch training loss = 0.971 and accuracy of 0.72\n",
      "Iteration 1510: with minibatch training loss = 0.683 and accuracy of 0.78\n",
      "Iteration 1520: with minibatch training loss = 0.756 and accuracy of 0.75\n",
      "Iteration 1530: with minibatch training loss = 0.823 and accuracy of 0.72\n",
      "Epoch 2, Overall loss = 1.03 and accuracy of 0.634\n",
      "Iteration 1540: with minibatch training loss = 1.03 and accuracy of 0.66\n",
      "Iteration 1550: with minibatch training loss = 1.2 and accuracy of 0.53\n",
      "Iteration 1560: with minibatch training loss = 0.687 and accuracy of 0.77\n",
      "Iteration 1570: with minibatch training loss = 0.731 and accuracy of 0.73\n",
      "Iteration 1580: with minibatch training loss = 0.811 and accuracy of 0.69\n",
      "Iteration 1590: with minibatch training loss = 0.876 and accuracy of 0.66\n",
      "Iteration 1600: with minibatch training loss = 0.762 and accuracy of 0.75\n",
      "Iteration 1610: with minibatch training loss = 1.18 and accuracy of 0.61\n",
      "Iteration 1620: with minibatch training loss = 0.819 and accuracy of 0.77\n",
      "Iteration 1630: with minibatch training loss = 1 and accuracy of 0.61\n",
      "Iteration 1640: with minibatch training loss = 0.755 and accuracy of 0.77\n",
      "Iteration 1650: with minibatch training loss = 0.949 and accuracy of 0.69\n",
      "Iteration 1660: with minibatch training loss = 0.876 and accuracy of 0.69\n",
      "Iteration 1670: with minibatch training loss = 0.993 and accuracy of 0.61\n",
      "Iteration 1680: with minibatch training loss = 1.06 and accuracy of 0.64\n",
      "Iteration 1690: with minibatch training loss = 0.822 and accuracy of 0.75\n",
      "Iteration 1700: with minibatch training loss = 0.894 and accuracy of 0.77\n",
      "Iteration 1710: with minibatch training loss = 0.886 and accuracy of 0.66\n",
      "Iteration 1720: with minibatch training loss = 0.923 and accuracy of 0.67\n",
      "Iteration 1730: with minibatch training loss = 0.871 and accuracy of 0.66\n",
      "Iteration 1740: with minibatch training loss = 0.805 and accuracy of 0.75\n",
      "Iteration 1750: with minibatch training loss = 0.978 and accuracy of 0.69\n",
      "Iteration 1760: with minibatch training loss = 0.85 and accuracy of 0.73\n",
      "Iteration 1770: with minibatch training loss = 0.824 and accuracy of 0.69\n",
      "Iteration 1780: with minibatch training loss = 0.705 and accuracy of 0.75\n",
      "Iteration 1790: with minibatch training loss = 0.884 and accuracy of 0.69\n",
      "Iteration 1800: with minibatch training loss = 0.771 and accuracy of 0.7\n",
      "Iteration 1810: with minibatch training loss = 0.869 and accuracy of 0.66\n",
      "Iteration 1820: with minibatch training loss = 0.824 and accuracy of 0.67\n",
      "Iteration 1830: with minibatch training loss = 0.888 and accuracy of 0.66\n",
      "Iteration 1840: with minibatch training loss = 0.928 and accuracy of 0.7\n",
      "Iteration 1850: with minibatch training loss = 0.853 and accuracy of 0.7\n",
      "Iteration 1860: with minibatch training loss = 0.709 and accuracy of 0.73\n",
      "Iteration 1870: with minibatch training loss = 0.771 and accuracy of 0.67\n",
      "Iteration 1880: with minibatch training loss = 0.847 and accuracy of 0.67\n",
      "Iteration 1890: with minibatch training loss = 0.878 and accuracy of 0.67\n",
      "Iteration 1900: with minibatch training loss = 0.777 and accuracy of 0.67\n",
      "Iteration 1910: with minibatch training loss = 0.712 and accuracy of 0.7\n",
      "Iteration 1920: with minibatch training loss = 0.675 and accuracy of 0.77\n",
      "Iteration 1930: with minibatch training loss = 0.626 and accuracy of 0.75\n",
      "Iteration 1940: with minibatch training loss = 0.818 and accuracy of 0.72\n",
      "Iteration 1950: with minibatch training loss = 0.83 and accuracy of 0.75\n",
      "Iteration 1960: with minibatch training loss = 0.722 and accuracy of 0.73\n",
      "Iteration 1970: with minibatch training loss = 0.676 and accuracy of 0.78\n",
      "Iteration 1980: with minibatch training loss = 0.836 and accuracy of 0.72\n",
      "Iteration 1990: with minibatch training loss = 0.502 and accuracy of 0.8\n",
      "Iteration 2000: with minibatch training loss = 0.679 and accuracy of 0.75\n",
      "Iteration 2010: with minibatch training loss = 0.913 and accuracy of 0.7\n",
      "Iteration 2020: with minibatch training loss = 0.735 and accuracy of 0.75\n",
      "Iteration 2030: with minibatch training loss = 0.459 and accuracy of 0.81\n",
      "Iteration 2040: with minibatch training loss = 0.683 and accuracy of 0.8\n",
      "Iteration 2050: with minibatch training loss = 0.685 and accuracy of 0.77\n",
      "Iteration 2060: with minibatch training loss = 0.823 and accuracy of 0.72\n",
      "Iteration 2070: with minibatch training loss = 0.741 and accuracy of 0.73\n",
      "Iteration 2080: with minibatch training loss = 0.752 and accuracy of 0.77\n",
      "Iteration 2090: with minibatch training loss = 0.771 and accuracy of 0.67\n",
      "Iteration 2100: with minibatch training loss = 0.798 and accuracy of 0.73\n",
      "Iteration 2110: with minibatch training loss = 0.557 and accuracy of 0.77\n",
      "Iteration 2120: with minibatch training loss = 0.719 and accuracy of 0.75\n",
      "Iteration 2130: with minibatch training loss = 0.571 and accuracy of 0.8\n",
      "Iteration 2140: with minibatch training loss = 0.942 and accuracy of 0.67\n",
      "Iteration 2150: with minibatch training loss = 0.602 and accuracy of 0.81\n",
      "Iteration 2160: with minibatch training loss = 0.655 and accuracy of 0.75\n",
      "Iteration 2170: with minibatch training loss = 0.643 and accuracy of 0.78\n",
      "Iteration 2180: with minibatch training loss = 0.953 and accuracy of 0.7\n",
      "Iteration 2190: with minibatch training loss = 0.455 and accuracy of 0.88\n",
      "Iteration 2200: with minibatch training loss = 0.628 and accuracy of 0.78\n",
      "Iteration 2210: with minibatch training loss = 0.644 and accuracy of 0.77\n",
      "Iteration 2220: with minibatch training loss = 0.947 and accuracy of 0.72\n",
      "Iteration 2230: with minibatch training loss = 0.661 and accuracy of 0.73\n",
      "Iteration 2240: with minibatch training loss = 0.614 and accuracy of 0.78\n"
     ]
    },
    {
     "name": "stdout",
     "output_type": "stream",
     "text": [
      "Iteration 2250: with minibatch training loss = 0.751 and accuracy of 0.72\n",
      "Iteration 2260: with minibatch training loss = 0.602 and accuracy of 0.77\n",
      "Iteration 2270: with minibatch training loss = 0.419 and accuracy of 0.8\n",
      "Iteration 2280: with minibatch training loss = 0.819 and accuracy of 0.73\n",
      "Iteration 2290: with minibatch training loss = 0.74 and accuracy of 0.72\n",
      "Epoch 3, Overall loss = 0.776 and accuracy of 0.728\n"
     ]
    },
    {
     "data": {
      "text/plain": [
       "(0.77597635385454922, 0.72753061224489801)"
      ]
     },
     "execution_count": 200,
     "metadata": {},
     "output_type": "execute_result"
    }
   ],
   "source": [
    "sess = tf.Session()\n",
    "\n",
    "sess.run(tf.global_variables_initializer())\n",
    "print('Training')\n",
    "run_model(sess,y_out,mean_loss,X_train,y_train,3,64,10,train_step)"
   ]
  },
  {
   "cell_type": "markdown",
   "metadata": {},
   "source": [
    "### Check the accuracy of the model.\n",
    "\n",
    "Let's see the train and test code in action -- feel free to use these methods when evaluating the models you develop below. You should see a loss of 1.3 to 2.0 with an accuracy of 0.45 to 0.55."
   ]
  },
  {
   "cell_type": "code",
   "execution_count": 201,
   "metadata": {},
   "outputs": [
    {
     "name": "stdout",
     "output_type": "stream",
     "text": [
      "Validation\n",
      "Epoch 1, Overall loss = 1.11 and accuracy of 0.649\n"
     ]
    },
    {
     "data": {
      "text/plain": [
       "(1.1130326061248779, 0.64900000000000002)"
      ]
     },
     "execution_count": 201,
     "metadata": {},
     "output_type": "execute_result"
    }
   ],
   "source": [
    "print('Validation')\n",
    "run_model(sess,y_out,mean_loss,X_val,y_val,1,64)"
   ]
  },
  {
   "cell_type": "markdown",
   "metadata": {},
   "source": [
    "## Train a _great_ model on CIFAR-10!\n",
    "\n",
    "Now it's your job to experiment with architectures, hyperparameters, loss functions, and optimizers to train a model that achieves ** >= 70% accuracy on the validation set** of CIFAR-10. You can use the `run_model` function from above."
   ]
  },
  {
   "cell_type": "markdown",
   "metadata": {},
   "source": [
    "### Things you should try:\n",
    "- **Filter size**: Above we used 7x7; this makes pretty pictures but smaller filters may be more efficient\n",
    "- **Number of filters**: Above we used 32 filters. Do more or fewer do better?\n",
    "- **Pooling vs Strided Convolution**: Do you use max pooling or just stride convolutions?\n",
    "- **Batch normalization**: Try adding spatial batch normalization after convolution layers and vanilla batch normalization after affine layers. Do your networks train faster?\n",
    "- **Network architecture**: The network above has two layers of trainable parameters. Can you do better with a deep network? Good architectures to try include:\n",
    "    - [conv-relu-pool]xN -> [affine]xM -> [softmax or SVM]\n",
    "    - [conv-relu-conv-relu-pool]xN -> [affine]xM -> [softmax or SVM]\n",
    "    - [batchnorm-relu-conv]xN -> [affine]xM -> [softmax or SVM]\n",
    "- **Use TensorFlow Scope**: Use TensorFlow scope and/or [tf.layers](https://www.tensorflow.org/api_docs/python/tf/layers) to make it easier to write deeper networks. See [this tutorial](https://www.tensorflow.org/tutorials/layers) for how to use `tf.layers`. \n",
    "- **Use Learning Rate Decay**: [As the notes point out](http://cs231n.github.io/neural-networks-3/#anneal), decaying the learning rate might help the model converge. Feel free to decay every epoch, when loss doesn't change over an entire epoch, or any other heuristic you find appropriate. See the [Tensorflow documentation](https://www.tensorflow.org/versions/master/api_guides/python/train#Decaying_the_learning_rate) for learning rate decay.\n",
    "- **Global Average Pooling**: Instead of flattening and then having multiple affine layers, perform convolutions until your image gets small (7x7 or so) and then perform an average pooling operation to get to a 1x1 image picture (1, 1 , Filter#), which is then reshaped into a (Filter#) vector. This is used in [Google's Inception Network](https://arxiv.org/abs/1512.00567) (See Table 1 for their architecture).\n",
    "- **Regularization**: Add l2 weight regularization, or perhaps use [Dropout as in the TensorFlow MNIST tutorial](https://www.tensorflow.org/get_started/mnist/pros)\n",
    "\n",
    "### Tips for training\n",
    "For each network architecture that you try, you should tune the learning rate and regularization strength. When doing this there are a couple important things to keep in mind:\n",
    "\n",
    "- If the parameters are working well, you should see improvement within a few hundred iterations\n",
    "- Remember the coarse-to-fine approach for hyperparameter tuning: start by testing a large range of hyperparameters for just a few training iterations to find the combinations of parameters that are working at all.\n",
    "- Once you have found some sets of parameters that seem to work, search more finely around these parameters. You may need to train for more epochs.\n",
    "- You should use the validation set for hyperparameter search, and we'll save the test set for evaluating your architecture on the best parameters as selected by the validation set.\n",
    "\n",
    "### Going above and beyond\n",
    "If you are feeling adventurous there are many other features you can implement to try and improve your performance. You are **not required** to implement any of these; however they would be good things to try for extra credit.\n",
    "\n",
    "- Alternative update steps: For the assignment we implemented SGD+momentum, RMSprop, and Adam; you could try alternatives like AdaGrad or AdaDelta.\n",
    "- Alternative activation functions such as leaky ReLU, parametric ReLU, ELU, or MaxOut.\n",
    "- Model ensembles\n",
    "- Data augmentation\n",
    "- New Architectures\n",
    "  - [ResNets](https://arxiv.org/abs/1512.03385) where the input from the previous layer is added to the output.\n",
    "  - [DenseNets](https://arxiv.org/abs/1608.06993) where inputs into previous layers are concatenated together.\n",
    "  - [This blog has an in-depth overview](https://chatbotslife.com/resnets-highwaynets-and-densenets-oh-my-9bb15918ee32)\n",
    "\n",
    "If you do decide to implement something extra, clearly describe it in the \"Extra Credit Description\" cell below.\n",
    "\n",
    "### What we expect\n",
    "At the very least, you should be able to train a ConvNet that gets at **>= 70% accuracy on the validation set**. This is just a lower bound - if you are careful it should be possible to get accuracies much higher than that! Extra credit points will be awarded for particularly high-scoring models or unique approaches.\n",
    "\n",
    "You should use the space below to experiment and train your network. The final cell in this notebook should contain the training and validation set accuracies for your final trained network.\n",
    "\n",
    "Have fun and happy training!"
   ]
  },
  {
   "cell_type": "code",
   "execution_count": 13,
   "metadata": {},
   "outputs": [
    {
     "ename": "AttributeError",
     "evalue": "'NoneType' object has no attribute 'minimize'",
     "output_type": "error",
     "traceback": [
      "\u001b[0;31m---------------------------------------------------------------------------\u001b[0m",
      "\u001b[0;31mAttributeError\u001b[0m                            Traceback (most recent call last)",
      "\u001b[0;32m<ipython-input-13-ebe21ee0319f>\u001b[0m in \u001b[0;36m<module>\u001b[0;34m()\u001b[0m\n\u001b[1;32m     20\u001b[0m \u001b[0mextra_update_ops\u001b[0m \u001b[0;34m=\u001b[0m \u001b[0mtf\u001b[0m\u001b[0;34m.\u001b[0m\u001b[0mget_collection\u001b[0m\u001b[0;34m(\u001b[0m\u001b[0mtf\u001b[0m\u001b[0;34m.\u001b[0m\u001b[0mGraphKeys\u001b[0m\u001b[0;34m.\u001b[0m\u001b[0mUPDATE_OPS\u001b[0m\u001b[0;34m)\u001b[0m\u001b[0;34m\u001b[0m\u001b[0m\n\u001b[1;32m     21\u001b[0m \u001b[0;32mwith\u001b[0m \u001b[0mtf\u001b[0m\u001b[0;34m.\u001b[0m\u001b[0mcontrol_dependencies\u001b[0m\u001b[0;34m(\u001b[0m\u001b[0mextra_update_ops\u001b[0m\u001b[0;34m)\u001b[0m\u001b[0;34m:\u001b[0m\u001b[0;34m\u001b[0m\u001b[0m\n\u001b[0;32m---> 22\u001b[0;31m     \u001b[0mtrain_step\u001b[0m \u001b[0;34m=\u001b[0m \u001b[0moptimizer\u001b[0m\u001b[0;34m.\u001b[0m\u001b[0mminimize\u001b[0m\u001b[0;34m(\u001b[0m\u001b[0mmean_loss\u001b[0m\u001b[0;34m)\u001b[0m\u001b[0;34m\u001b[0m\u001b[0m\n\u001b[0m",
      "\u001b[0;31mAttributeError\u001b[0m: 'NoneType' object has no attribute 'minimize'"
     ]
    }
   ],
   "source": [
    "# Feel free to play with this cell\n",
    "\n",
    "def my_model(X,y,is_training):\n",
    "    pass\n",
    "\n",
    "tf.reset_default_graph()\n",
    "\n",
    "X = tf.placeholder(tf.float32, [None, 32, 32, 3])\n",
    "y = tf.placeholder(tf.int64, [None])\n",
    "is_training = tf.placeholder(tf.bool)\n",
    "\n",
    "y_out = my_model(X,y,is_training)\n",
    "mean_loss = None\n",
    "optimizer = None\n",
    "\n",
    "\n",
    "pass\n",
    "\n",
    "# batch normalization in tensorflow requires this extra dependency\n",
    "extra_update_ops = tf.get_collection(tf.GraphKeys.UPDATE_OPS)\n",
    "with tf.control_dependencies(extra_update_ops):\n",
    "    train_step = optimizer.minimize(mean_loss)"
   ]
  },
  {
   "cell_type": "code",
   "execution_count": 173,
   "metadata": {},
   "outputs": [
    {
     "name": "stdout",
     "output_type": "stream",
     "text": [
      "Validation\n",
      "Epoch 1, Overall loss = 1.91 and accuracy of 0.586\n"
     ]
    },
    {
     "data": {
      "text/plain": [
       "(1.9119974203109742, 0.58599999999999997)"
      ]
     },
     "execution_count": 173,
     "metadata": {},
     "output_type": "execute_result"
    }
   ],
   "source": [
    "# Feel free to play with this cell\n",
    "# This default code creates a session\n",
    "# and trains your model for 10 epochs\n",
    "# then prints the validation set accuracy\n",
    "#sess = tf.Session()\n",
    "\n",
    "#sess.run(tf.global_variables_initializer())\n",
    "#print('Training')\n",
    "#run_model(sess,y_out,mean_loss,X_train,y_train,10,64,100,train_step,True)\n",
    "print('Validation')\n",
    "run_model(sess,y_out,mean_loss,X_val,y_val,1,64)"
   ]
  },
  {
   "cell_type": "code",
   "execution_count": null,
   "metadata": {
    "collapsed": true
   },
   "outputs": [],
   "source": [
    "# Test your model here, and make sure \n",
    "# the output of this cell is the accuracy\n",
    "# of your best model on the training and val sets\n",
    "# We're looking for >= 70% accuracy on Validation\n",
    "print('Training')\n",
    "run_model(sess,y_out,mean_loss,X_train,y_train,1,64)\n",
    "print('Validation')\n",
    "run_model(sess,y_out,mean_loss,X_val,y_val,1,64)"
   ]
  },
  {
   "cell_type": "markdown",
   "metadata": {},
   "source": [
    "### Describe what you did here\n",
    "In this cell you should also write an explanation of what you did, any additional features that you implemented, and any visualizations or graphs that you make in the process of training and evaluating your network"
   ]
  },
  {
   "cell_type": "markdown",
   "metadata": {},
   "source": [
    "_Tell us here_"
   ]
  },
  {
   "cell_type": "markdown",
   "metadata": {},
   "source": [
    "### Test Set - Do this only once\n",
    "Now that we've gotten a result that we're happy with, we test our final model on the test set. This would be the score we would achieve on a competition. Think about how this compares to your validation set accuracy."
   ]
  },
  {
   "cell_type": "code",
   "execution_count": 202,
   "metadata": {},
   "outputs": [
    {
     "name": "stdout",
     "output_type": "stream",
     "text": [
      "Test\n",
      "Epoch 1, Overall loss = 1.06 and accuracy of 0.651\n"
     ]
    },
    {
     "data": {
      "text/plain": [
       "(1.0598258085250853, 0.65080000000000005)"
      ]
     },
     "execution_count": 202,
     "metadata": {},
     "output_type": "execute_result"
    }
   ],
   "source": [
    "print('Test')\n",
    "run_model(sess,y_out,mean_loss,X_test,y_test,1,64)"
   ]
  },
  {
   "cell_type": "markdown",
   "metadata": {},
   "source": [
    "## Going further with TensorFlow\n",
    "\n",
    "The next assignment will make heavy use of TensorFlow. You might also find it useful for your projects. \n"
   ]
  },
  {
   "cell_type": "markdown",
   "metadata": {},
   "source": [
    "# Extra Credit Description\n",
    "If you implement any additional features for extra credit, clearly describe them here with pointers to any code in this or other files if applicable."
   ]
  }
 ],
 "metadata": {
  "kernelspec": {
   "display_name": "Python 3",
   "language": "python",
   "name": "python3"
  },
  "language_info": {
   "codemirror_mode": {
    "name": "ipython",
    "version": 3
   },
   "file_extension": ".py",
   "mimetype": "text/x-python",
   "name": "python",
   "nbconvert_exporter": "python",
   "pygments_lexer": "ipython3",
   "version": "3.6.1"
  }
 },
 "nbformat": 4,
 "nbformat_minor": 1
}
